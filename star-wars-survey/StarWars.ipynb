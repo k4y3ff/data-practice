{
 "cells": [
  {
   "cell_type": "code",
   "execution_count": 66,
   "metadata": {
    "collapsed": true
   },
   "outputs": [],
   "source": [
    "import pandas as pd"
   ]
  },
  {
   "cell_type": "code",
   "execution_count": 67,
   "metadata": {
    "collapsed": true
   },
   "outputs": [],
   "source": [
    "star_wars = pd.read_csv(\"star_wars.csv\", encoding=\"ISO-8859-1\")"
   ]
  },
  {
   "cell_type": "code",
   "execution_count": 68,
   "metadata": {
    "collapsed": false
   },
   "outputs": [],
   "source": [
    "star_wars = star_wars[pd.notnull(star_wars[\"RespondentID\"])]"
   ]
  },
  {
   "cell_type": "code",
   "execution_count": 69,
   "metadata": {
    "collapsed": false
   },
   "outputs": [],
   "source": [
    "have_you_seen = \"Have you seen any of the 6 films in the Star Wars franchise?\""
   ]
  },
  {
   "cell_type": "code",
   "execution_count": 70,
   "metadata": {
    "collapsed": false
   },
   "outputs": [],
   "source": [
    "do_you_consider = \"Do you consider yourself to be a fan of the Star Wars film franchise?\""
   ]
  },
  {
   "cell_type": "code",
   "execution_count": 71,
   "metadata": {
    "collapsed": false
   },
   "outputs": [],
   "source": [
    "star_wars[have_you_seen] = star_wars[have_you_seen].map({\"Yes\": True, \"No\": False})"
   ]
  },
  {
   "cell_type": "code",
   "execution_count": 72,
   "metadata": {
    "collapsed": true
   },
   "outputs": [],
   "source": [
    "star_wars[do_you_consider] = star_wars[do_you_consider].map({\"Yes\": True, \"No\": False})"
   ]
  },
  {
   "cell_type": "code",
   "execution_count": 73,
   "metadata": {
    "collapsed": false
   },
   "outputs": [],
   "source": [
    "star_wars_title_columns = star_wars.columns[3:9]\n",
    "\n",
    "seen_transformations = {\"Star Wars: Episode I  The Phantom Menace\": True,\n",
    "                        \"Star Wars: Episode II  Attack of the Clones\": True,\n",
    "                        \"Star Wars: Episode III  Revenge of the Sith\": True,\n",
    "                        \"Star Wars: Episode IV  A New Hope\": True,\n",
    "                        \"Star Wars: Episode V The Empire Strikes Back\": True,\n",
    "                        \"Star Wars: Episode VI Return of the Jedi\": True,\n",
    "                        \"NaN\": False}\n",
    "\n",
    "for column in star_wars_title_columns:\n",
    "    star_wars[column] = star_wars[column].map(seen_transformations)"
   ]
  },
  {
   "cell_type": "code",
   "execution_count": 74,
   "metadata": {
    "collapsed": false
   },
   "outputs": [],
   "source": [
    "new_star_wars_title_columns = {\"Which of the following Star Wars films have you seen? Please select all that apply.\": \"seen_1\",\n",
    "                               \"Unnamed: 4\": \"seen_2\",\n",
    "                               \"Unnamed: 5\": \"seen_3\",\n",
    "                               \"Unnamed: 6\": \"seen_4\",\n",
    "                               \"Unnamed: 7\": \"seen_5\",\n",
    "                               \"Unnamed: 8\": \"seen_6\"}\n",
    "\n",
    "star_wars = star_wars.rename(columns=new_star_wars_title_columns)"
   ]
  },
  {
   "cell_type": "code",
   "execution_count": 82,
   "metadata": {
    "collapsed": false
   },
   "outputs": [],
   "source": [
    "star_wars[star_wars.columns[9:15]].head(5)\n",
    "\n",
    "star_wars = star_wars.rename(columns={\"Please rank the Star Wars films in order of preference with 1 being your favorite film in the franchise and 6 being your least favorite film.\": \"ranking_1\",\n",
    "                          \"Unnamed: 10\": \"ranking_2\",\n",
    "                          \"Unnamed: 11\": \"ranking_3\",\n",
    "                          \"Unnamed: 12\": \"ranking_4\",\n",
    "                          \"Unnamed: 13\": \"ranking_5\",\n",
    "                          \"Unnamed: 14\": \"ranking_6\"})"
   ]
  },
  {
   "cell_type": "code",
   "execution_count": 88,
   "metadata": {
    "collapsed": true
   },
   "outputs": [],
   "source": [
    "star_wars[star_wars.columns[9:15]] = star_wars[star_wars.columns[9:15]].astype(float) "
   ]
  },
  {
   "cell_type": "code",
   "execution_count": 98,
   "metadata": {
    "collapsed": false
   },
   "outputs": [],
   "source": [
    "ranking_columns = star_wars.columns[9:15]\n",
    "ranking_means = ranking_columns.map(lambda c: star_wars[c].mean())"
   ]
  },
  {
   "cell_type": "code",
   "execution_count": 99,
   "metadata": {
    "collapsed": true
   },
   "outputs": [],
   "source": [
    "%matplotlib inline\n",
    "\n",
    "import matplotlib.pyplot as plt\n",
    "import numpy as np"
   ]
  },
  {
   "cell_type": "code",
   "execution_count": 100,
   "metadata": {
    "collapsed": false
   },
   "outputs": [
    {
     "data": {
      "image/png": "[encoded data removed]",
      "text/plain": [
       "<matplotlib.figure.Figure at 0x7f50e43ae240>"
      ]
     },
     "metadata": {},
     "output_type": "display_data"
    }
   ],
   "source": [
    "ind = np.arange(6)\n",
    "\n",
    "fig, ax = plt.subplots()\n",
    "rects = ax.bar(ind, ranking_means, 0.35, color=\"pink\")\n",
    "ax.set_ylabel(\"Mean Scores\")\n",
    "ax.set_title(\"Mean Scores by Star Wars Movie\")\n",
    "ax.set_xticks(ind)\n",
    "ax.set_xticklabels(ranking_columns)\n",
    "\n",
    "plt.show()"
   ]
  },
  {
   "cell_type": "code",
   "execution_count": 104,
   "metadata": {
    "collapsed": false
   },
   "outputs": [
    {
     "data": {
      "image/png": "[encoded data removed]",
      "text/plain": [
       "<matplotlib.figure.Figure at 0x7f50e433a668>"
      ]
     },
     "metadata": {},
     "output_type": "display_data"
    }
   ],
   "source": [
    "seen_columns = star_wars.columns[3:9]\n",
    "seen_sums = seen_columns.map(lambda c: star_wars[c].sum())\n",
    "\n",
    "fig, ax = plt.subplots()\n",
    "rects2 = ax.bar(ind, seen_sums, 0.35, color=\"blue\")\n",
    "ax.set_ylabel(\"Total Views\")\n",
    "ax.set_title(\"Total Views by Star Wars Movie\")\n",
    "ax.set_xticks(ind)\n",
    "ax.set_xticklabels(seen_columns)\n",
    "\n",
    "plt.show()"
   ]
  },
  {
   "cell_type": "markdown",
   "metadata": {},
   "source": [
    "I'd guess that the number of views for each movie is inversely correlated to the mean score for each movie because the worse a movie is, the fewer number of people who see it."
   ]
  },
  {
   "cell_type": "code",
   "execution_count": 106,
   "metadata": {
    "collapsed": true
   },
   "outputs": [],
   "source": [
    "men = star_wars[star_wars[\"Gender\"] == \"Male\"]\n",
    "women = star_wars[star_wars[\"Gender\"] == \"Female\"]"
   ]
  },
  {
   "cell_type": "code",
   "execution_count": 111,
   "metadata": {
    "collapsed": false
   },
   "outputs": [
    {
     "data": {
      "image/png": "[encoded data removed]",
      "text/plain": [
       "<matplotlib.figure.Figure at 0x7f50e429b518>"
      ]
     },
     "metadata": {},
     "output_type": "display_data"
    }
   ],
   "source": [
    "men_ranking_means = ranking_columns.map(lambda c: men[c].mean())\n",
    "women_ranking_means = ranking_columns.map(lambda c: women[c].mean())\n",
    "\n",
    "fix, ax = plt.subplots()\n",
    "rects1 = ax.bar(ind, men_ranking_means, 0.35, color=\"red\")\n",
    "rects2 = ax.bar(ind + 0.35, women_ranking_means, 0.35, color=\"purple\")\n",
    "ax.set_ylabel(\"Mean Scores\")\n",
    "ax.set_title(\"Mean Scores for Men by Star Wars Movie\")\n",
    "ax.set_xticks(ind)\n",
    "ax.set_xticklabels(ranking_columns)\n",
    "\n",
    "ax.legend((rects1[0], rects2[0]), (\"Men\", \"Women\"))\n",
    "\n",
    "plt.show()"
   ]
  },
  {
   "cell_type": "markdown",
   "metadata": {},
   "source": [
    "Men and women ranked movies in approximately the same order. However, women liked the first and second movies less than men and liked the other movies more than men."
   ]
  },
  {
   "cell_type": "code",
   "execution_count": null,
   "metadata": {
    "collapsed": true
   },
   "outputs": [],
   "source": []
  }
 ],
 "metadata": {
  "kernelspec": {
   "display_name": "Python 3",
   "language": "python",
   "name": "python3"
  },
  "language_info": {
   "codemirror_mode": {
    "name": "ipython",
    "version": 3
   },
   "file_extension": ".py",
   "mimetype": "text/x-python",
   "name": "python",
   "nbconvert_exporter": "python",
   "pygments_lexer": "ipython3",
   "version": "3.5.1"
  }
 },
 "nbformat": 4,
 "nbformat_minor": 0
}
